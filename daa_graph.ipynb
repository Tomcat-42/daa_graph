{
 "cells": [
  {
   "attachments": {},
   "cell_type": "markdown",
   "metadata": {
    "id": "DSEP3R3EEyov"
   },
   "source": [
    "# Análise"
   ]
  },
  {
   "attachments": {},
   "cell_type": "markdown",
   "metadata": {
    "id": "_rwctUAaHzyT"
   },
   "source": [
    "## Introdução"
   ]
  },
  {
   "attachments": {},
   "cell_type": "markdown",
   "metadata": {
    "id": "nxRftU8WH731"
   },
   "source": [
    "Grafos ponderados não direcionados são uma estrutura de dados fundamental que permite modelar uma variedade de problemas do mundo real. Em um grafo ponderado, cada aresta tem um peso (ou custo, ou distância) associado a ela. Isso permite representar situações em que as relações entre os pontos não são iguais, como a distância entre as cidades em um mapa ou a largura de banda disponível em uma rede de computadores. No contexto de grafos não direcionados, a aresta entre dois nós pode ser percorrida em ambas as direções, sendo ambas equivalentes.\n",
    "\n",
    "Dentro do estudo de grafos, um conceito fundamental é o de uma árvore geradora mínima (Minimum Spanning Tree - MST). Uma MST de um grafo é uma sub-rede que conecta todos os nós do grafo com o peso mínimo total, ou seja, a soma dos pesos das arestas é a menor possível. As MSTs têm uma ampla gama de aplicações, incluindo a otimização de redes de transporte e comunicação e a previsão de redes elétricas.\n",
    "\n",
    "O algoritmo de Kruskal é um método popular para encontrar a MST de um grafo. Proposto por Joseph Kruskal em 1956, esse algoritmo funciona adicionando a menor aresta que não forma um ciclo até que todas as vértices estejam conectadas. É eficiente e fácil de implementar, tornando-se uma escolha popular para resolver problemas de otimização em redes.\n",
    "\n",
    "Outro algoritmo central para a geração de MSTs é o algoritmo de Prim, proposto por Robert C. Prim em 1957. Este algoritmo é uma abordagem \"gulosa\", começando por um nó arbitrário e sempre adicionando a aresta de menor peso que conecta um nó já na árvore a um nó fora dela. O algoritmo de Prim é particularmente eficiente quando aplicado a grafos densos, onde há muitas arestas."
   ]
  },
  {
   "cell_type": "markdown",
   "metadata": {
    "id": "vLkh-v3iIDzO"
   },
   "source": [
    "## Bibliotecas desenvolvidas"
   ]
  },
  {
   "cell_type": "markdown",
   "metadata": {
    "id": "HBO94c3sFCKQ"
   },
   "source": [
    "Para a presente analise, foi desenvolvido pelo grupo três bibliotecas escritas em **C+** com **bindings** para a linguagem python:\n",
    "\n",
    "*    **picods**: Biblioteca para visualização de dados em gráficos e tabelas.\n",
    "*    **pydaa**: Biblioteca para Projeto e analise de algoritmos, que contém as implementações do problema da mochila binária.\n",
    "*    **pyaon**: Biblioteca auxiliar para a leitura de arquivos de entrada do problema. \n",
    "\n",
    "Sendo assim, para instalar essas libs:"
   ]
  },
  {
   "cell_type": "code",
   "execution_count": null,
   "metadata": {
    "id": "84gwz1W0ENoN"
   },
   "outputs": [],
   "source": [
    "!pip install picods pydaa pyaon"
   ]
  },
  {
   "cell_type": "markdown",
   "metadata": {
    "id": "PdQX_2a4KJkf"
   },
   "source": [
    "E importar as funções utilizadas:"
   ]
  },
  {
   "cell_type": "code",
   "execution_count": null,
   "metadata": {
    "id": "aF0gxRMpKIlf"
   },
   "outputs": [],
   "source": [
    "import os\n",
    "\n",
    "# plots and tables\n",
    "from picods import picoplot\n",
    "from picods import picotable\n",
    "\n",
    "# File parsing\n",
    "from pyaon.graph import (dump, load)\n",
    "\n",
    "# Algorithms\n",
    "from pydaa.graph import (Graph, kruskal, prim)"
   ]
  },
  {
   "cell_type": "markdown",
   "metadata": {
    "id": "Sj2Z6vACGVFf"
   },
   "source": [
    "## Arquivos de entrada"
   ]
  },
  {
   "attachments": {},
   "cell_type": "markdown",
   "metadata": {
    "id": "jgH21DuxGsh8"
   },
   "source": [
    "O diretório `./data` contém todos os arquivos utilizados na analise. Esse diretório contém vários arquivos que representam Grafos ponderados não direcionados.\n",
    "\n",
    "Cada arquivo tem o nome no formato _Entrada N.txt_, onde _N_ denota a escala do problema, ou seja, a quantidade de vertices do Grafo. Por exemplo, um arquivo `Entrada 10.txt` possui como conteúdo:"
   ]
  },
  {
   "attachments": {},
   "cell_type": "markdown",
   "metadata": {
    "id": "8rUzu9KGHXa8"
   },
   "source": [
    "```text\n",
    "10\n",
    "0 0 0 9 6 9 0 0 0 8 \n",
    "0 0 1 0 4 5 6 0 0 0 \n",
    "0 1 0 0 4 0 5 1 2 0 \n",
    "9 0 0 0 1 7 5 0 4 5 \n",
    "6 4 4 1 0 5 0 8 7 0 \n",
    "9 5 0 7 5 0 9 0 3 1 \n",
    "0 6 5 5 0 9 0 5 5 3 \n",
    "0 0 1 0 8 0 5 0 0 9 \n",
    "0 0 2 4 7 3 5 0 0 1 \n",
    "8 0 0 5 0 1 3 9 1 0 \n",
    "```"
   ]
  },
  {
   "attachments": {},
   "cell_type": "markdown",
   "metadata": {
    "id": "AbFX6stKIW2V"
   },
   "source": [
    "Traduzindo esse arquivo como entrada de uma instância do problema, temos um grafo de 10 vértices com as arestas com os pesos representados em cada célula da matriz. "
   ]
  },
  {
   "cell_type": "markdown",
   "metadata": {
    "id": "9NZ2RR6nJL-7"
   },
   "source": [
    "## Tratamento dos dados"
   ]
  },
  {
   "cell_type": "markdown",
   "metadata": {
    "id": "kqcggW8qJPaa"
   },
   "source": [
    "Dessa forma, aplicando uma série de funções compostas, podemos ler as entradas para cada instância do problema contidas nos arquivos, obtendo assim os dados: **árvore geradora mínima**, **tempo de execução**, e **Número de comparações realizadas** para cada algorítimo:"
   ]
  },
  {
   "cell_type": "code",
   "execution_count": null,
   "metadata": {
    "id": "iW9Eg0gOJ_tC"
   },
   "outputs": [],
   "source": [
    "data = list(\n",
    "    map(\n",
    "        lambda x: [\n",
    "            x[\"size\"],\n",
    "            x[\"kruskal\"][1].microseconds,\n",
    "            x[\"prim\"][1].microseconds,\n",
    "            x[\"kruskal\"][2],\n",
    "            x[\"prim\"][2],\n",
    "        ],\n",
    "        map(\n",
    "            lambda x: {\n",
    "                \"size\": x[0],\n",
    "                \"kruskal\": kruskal(Graph(x[1])),\n",
    "                \"prim\": prim(Graph(x[1]))\n",
    "            },\n",
    "            sorted(\n",
    "                map(\n",
    "                    lambda x: load(f\"./data/{x}\"),\n",
    "                    os.listdir(\"data\"),\n",
    "                ),\n",
    "                key=lambda x: x[0],\n",
    "            ),\n",
    "        ),\n",
    "    ))\n",
    "data\n"
   ]
  },
  {
   "cell_type": "markdown",
   "metadata": {
    "id": "JstAVnhdKleT"
   },
   "source": [
    "## Analise dos Dados e Discussão"
   ]
  },
  {
   "cell_type": "markdown",
   "metadata": {
    "id": "a8E_kLN5KrTt"
   },
   "source": [
    "Dessa forma, tendo os dados da resolução de cada instância do problema, podemos prosseguir com a analise desses."
   ]
  },
  {
   "cell_type": "markdown",
   "metadata": {
    "id": "jMVeEMt2LCgy"
   },
   "source": [
    "A tabela a seguir mostra, para cada instância do problema, seu tempo de execução e número de comparações obtido, dentro de cada uma das duas abordagens:"
   ]
  },
  {
   "cell_type": "code",
   "execution_count": null,
   "metadata": {
    "colab": {
     "base_uri": "https://localhost:8080/",
     "height": 585
    },
    "id": "--8jOGKWLMVO",
    "outputId": "37cfc6f2-58e3-4660-e630-e2cb6349df31"
   },
   "outputs": [],
   "source": [
    "picotable(\n",
    "    \"Graph Results\",\n",
    "    data,\n",
    "    [\n",
    "        \"Size\",\n",
    "        \"Kruskal Time (μs)\",\n",
    "        \"Prim Time (μs)\",\n",
    "        \"Kruskal Comparsions\",\n",
    "        \"Prim Comparsions\",\n",
    "    ],\n",
    "    [\"\" for i in range(len(data))],\n",
    ")\n"
   ]
  },
  {
   "cell_type": "markdown",
   "metadata": {
    "id": "C5NAeQQSL_qy"
   },
   "source": [
    "Seguindo, o gráfico de **tempo** x **tamanho** para cada abordagem do problema pode ser visto a seguir: "
   ]
  },
  {
   "cell_type": "markdown",
   "metadata": {
    "id": "rMVtmePZMTOx"
   },
   "source": [
    "### Tempo"
   ]
  },
  {
   "cell_type": "markdown",
   "metadata": {},
   "source": [
    "#### Kruskal"
   ]
  },
  {
   "cell_type": "code",
   "execution_count": null,
   "metadata": {
    "colab": {
     "base_uri": "https://localhost:8080/",
     "height": 513
    },
    "id": "HmXozNJNMXhL",
    "outputId": "65b8c3ee-49ba-41a5-ae7d-b0bf211876f8"
   },
   "outputs": [],
   "source": [
    "picoplot(\n",
    "    \"Execution times - Kruskal\",\n",
    "    [[i[0] for i in data]],\n",
    "    [[i[1] for i in data]],\n",
    "    [\"Kruskal\"],\n",
    "    [\"blue\"],\n",
    "    \"Size\",\n",
    "    \"Time(μs)\",\n",
    ")"
   ]
  },
  {
   "cell_type": "markdown",
   "metadata": {},
   "source": [
    "#### Prim"
   ]
  },
  {
   "cell_type": "code",
   "execution_count": null,
   "metadata": {},
   "outputs": [],
   "source": [
    "picoplot(\n",
    "    \"Execution times - Prim\",\n",
    "    [[i[0] for i in data]],\n",
    "    [[i[2] for i in data]],\n",
    "    [\"Prim\"],\n",
    "    [\"red\"],\n",
    "    \"Size\",\n",
    "    \"Time(μs)\",\n",
    ")"
   ]
  },
  {
   "cell_type": "markdown",
   "metadata": {
    "id": "Sl7TAK2VNPDq"
   },
   "source": [
    "### Comparação"
   ]
  },
  {
   "cell_type": "markdown",
   "metadata": {},
   "source": [
    "### Comparações"
   ]
  },
  {
   "cell_type": "code",
   "execution_count": null,
   "metadata": {},
   "outputs": [],
   "source": [
    "picoplot(\n",
    "    \"Execution Time - Comparsion\",\n",
    "    [[i[0] for i in data], [i[0] for i in data]],\n",
    "    [\n",
    "        [i[1] for i in data],\n",
    "        [i[2] for i in data],\n",
    "    ],\n",
    "    [\"Kruskal\", \"Prim\"],\n",
    "    [\"blue\", \"red\"],\n",
    "    \"Size\",\n",
    "    \"Time(μs)\",\n",
    ")\n"
   ]
  },
  {
   "cell_type": "markdown",
   "metadata": {},
   "source": [
    "#### Kruskal"
   ]
  },
  {
   "cell_type": "code",
   "execution_count": null,
   "metadata": {},
   "outputs": [],
   "source": [
    "picoplot(\n",
    "    \"Comparsions - Kruskal\",\n",
    "    [[i[0] for i in data]],\n",
    "    [[i[3] for i in data]],\n",
    "    [\"Kruskal\"],\n",
    "    [\"blue\"],\n",
    "    \"Size\",\n",
    "    \"Comparsions\",\n",
    ")"
   ]
  },
  {
   "cell_type": "markdown",
   "metadata": {},
   "source": [
    "#### Prim"
   ]
  },
  {
   "cell_type": "code",
   "execution_count": null,
   "metadata": {},
   "outputs": [],
   "source": [
    "picoplot(\n",
    "    \"Comparsions - Prim\",\n",
    "    [[i[0] for i in data]],\n",
    "    [[i[4] for i in data]],\n",
    "    [\"Prim\"],\n",
    "    [\"red\"],\n",
    "    \"Size\",\n",
    "    \"Time(μs)\",\n",
    ")"
   ]
  },
  {
   "cell_type": "markdown",
   "metadata": {},
   "source": [
    "#### Comparação"
   ]
  },
  {
   "cell_type": "code",
   "execution_count": null,
   "metadata": {},
   "outputs": [],
   "source": [
    "picoplot(\n",
    "    \"Comparsions - Comparsion\",\n",
    "    [[i[0] for i in data], [i[0] for i in data]],\n",
    "    [\n",
    "        [i[3] for i in data],\n",
    "        [i[4] for i in data],\n",
    "    ],\n",
    "    [\"Kruskal\", \"Prim\"],\n",
    "    [\"blue\", \"red\"],\n",
    "    \"Size\",\n",
    "    \"Time(μs)\",\n",
    ")\n"
   ]
  },
  {
   "cell_type": "markdown",
   "metadata": {
    "id": "ToNW2IEvNk_a"
   },
   "source": [
    "## Conclusões"
   ]
  },
  {
   "cell_type": "markdown",
   "metadata": {},
   "source": []
  },
  {
   "cell_type": "markdown",
   "metadata": {},
   "source": []
  }
 ],
 "metadata": {
  "colab": {
   "provenance": []
  },
  "kernelspec": {
   "display_name": "Python 3 (ipykernel)",
   "language": "python",
   "name": "python3"
  },
  "language_info": {
   "codemirror_mode": {
    "name": "ipython",
    "version": 3
   },
   "file_extension": ".py",
   "mimetype": "text/x-python",
   "name": "python",
   "nbconvert_exporter": "python",
   "pygments_lexer": "ipython3",
   "version": "3.11.3"
  },
  "vscode": {
   "interpreter": {
    "hash": "2b8f169918ad25318a847b691d94f10717837f87a6d63e29ff71048d249e684f"
   }
  }
 },
 "nbformat": 4,
 "nbformat_minor": 1
}
